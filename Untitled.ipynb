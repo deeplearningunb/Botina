{
 "cells": [
  {
   "cell_type": "code",
   "execution_count": 91,
   "metadata": {},
   "outputs": [],
   "source": [
    "# Recurrent Neural Network\n",
    "\n",
    "\n",
    "\n",
    "# Part 1 - Data Preprocessing\n",
    "\n",
    "# Importing the libraries\n",
    "import numpy as np\n",
    "import matplotlib.pyplot as plt\n",
    "import pandas as pd"
   ]
  },
  {
   "cell_type": "code",
   "execution_count": 92,
   "metadata": {},
   "outputs": [],
   "source": [
    "# Importing the training sets\n",
    "dataset_train = pd.read_csv('FBOK34.SA.csv')\n",
    "training_set = dataset_train.iloc[:, 1:2].values"
   ]
  },
  {
   "cell_type": "code",
   "execution_count": 93,
   "metadata": {},
   "outputs": [],
   "source": [
    "# Feature Scaling\n",
    "from sklearn.preprocessing import MinMaxScaler\n",
    "sc = MinMaxScaler(feature_range = (0, 1))\n",
    "training_set_scaled = sc.fit_transform(training_set)"
   ]
  },
  {
   "cell_type": "code",
   "execution_count": 94,
   "metadata": {},
   "outputs": [],
   "source": [
    "# Creating a data structure with 60 timesteps and 1 output\n",
    "X_train = []\n",
    "y_train = []\n",
    "for i in range(60, 1073):\n",
    "    X_train.append(training_set_scaled[i-60:i, 0])\n",
    "    y_train.append(training_set_scaled[i, 0])\n",
    "X_train, y_train = np.array(X_train), np.array(y_train)"
   ]
  },
  {
   "cell_type": "code",
   "execution_count": 95,
   "metadata": {},
   "outputs": [],
   "source": [
    "# Reshaping\n",
    "X_train = np.reshape(X_train, (X_train.shape[0], X_train.shape[1], 1))"
   ]
  },
  {
   "cell_type": "code",
   "execution_count": 96,
   "metadata": {},
   "outputs": [],
   "source": [
    "# Part 2 - Building the RNN\n",
    "\n",
    "# Importing the Keras libraries and packages\n",
    "from keras.models import Sequential\n",
    "from keras.layers import Dense\n",
    "from keras.layers import GRU\n",
    "from keras.layers import Dropout"
   ]
  },
  {
   "cell_type": "code",
   "execution_count": 97,
   "metadata": {},
   "outputs": [],
   "source": [
    "# Initialising the RNN\n",
    "regressor = Sequential()"
   ]
  },
  {
   "cell_type": "code",
   "execution_count": 98,
   "metadata": {},
   "outputs": [],
   "source": [
    "# Adding the first LSTM layer and some Dropout regularisation\n",
    "regressor.add(GRU(units = 100, return_sequences = True, input_shape = (X_train.shape[1], 1)))\n",
    "regressor.add(Dropout(0.1))"
   ]
  },
  {
   "cell_type": "code",
   "execution_count": 99,
   "metadata": {},
   "outputs": [],
   "source": [
    "# Adding a second LSTM layer and some Dropout regularisation\n",
    "regressor.add(GRU(units = 100, return_sequences = True))\n",
    "regressor.add(Dropout(0.1))"
   ]
  },
  {
   "cell_type": "code",
   "execution_count": 100,
   "metadata": {},
   "outputs": [],
   "source": [
    "# Adding a third LSTM layer and some Dropout regularisation\n",
    "regressor.add(GRU(units = 100, return_sequences = True))\n",
    "regressor.add(Dropout(0.1))"
   ]
  },
  {
   "cell_type": "code",
   "execution_count": 101,
   "metadata": {},
   "outputs": [],
   "source": [
    "# Adding a fourth LSTM layer and some Dropout regularisation\n",
    "regressor.add(GRU(units = 100))\n",
    "regressor.add(Dropout(0.1))"
   ]
  },
  {
   "cell_type": "code",
   "execution_count": 102,
   "metadata": {},
   "outputs": [],
   "source": [
    "# Adding the output layer\n",
    "regressor.add(Dense(units = 1))"
   ]
  },
  {
   "cell_type": "code",
   "execution_count": 103,
   "metadata": {},
   "outputs": [],
   "source": [
    "# Compiling the RNN\n",
    "regressor.compile(optimizer = 'adam', loss = 'mean_squared_error')"
   ]
  },
  {
   "cell_type": "code",
   "execution_count": 104,
   "metadata": {},
   "outputs": [
    {
     "name": "stdout",
     "output_type": "stream",
     "text": [
      "Epoch 1/100\n",
      "1013/1013 [==============================] - 11s 11ms/step - loss: 0.0237\n",
      "Epoch 2/100\n",
      "1013/1013 [==============================] - 7s 7ms/step - loss: 0.0020\n",
      "Epoch 3/100\n",
      "1013/1013 [==============================] - 7s 7ms/step - loss: 0.0015\n",
      "Epoch 4/100\n",
      "1013/1013 [==============================] - 8s 8ms/step - loss: 0.0014\n",
      "Epoch 5/100\n",
      "1013/1013 [==============================] - 8s 8ms/step - loss: 0.0012\n",
      "Epoch 6/100\n",
      "1013/1013 [==============================] - 8s 8ms/step - loss: 0.0011\n",
      "Epoch 7/100\n",
      "1013/1013 [==============================] - 8s 7ms/step - loss: 0.0014\n",
      "Epoch 8/100\n",
      "1013/1013 [==============================] - 7s 7ms/step - loss: 0.0014\n",
      "Epoch 9/100\n",
      "1013/1013 [==============================] - 7s 7ms/step - loss: 0.0011\n",
      "Epoch 10/100\n",
      "1013/1013 [==============================] - 7s 7ms/step - loss: 0.0011\n",
      "Epoch 11/100\n",
      "1013/1013 [==============================] - 7s 7ms/step - loss: 0.0011\n",
      "Epoch 12/100\n",
      "1013/1013 [==============================] - 7s 7ms/step - loss: 0.0011\n",
      "Epoch 13/100\n",
      "1013/1013 [==============================] - 8s 8ms/step - loss: 0.0012\n",
      "Epoch 14/100\n",
      "1013/1013 [==============================] - 7s 7ms/step - loss: 9.1971e-04\n",
      "Epoch 15/100\n",
      "1013/1013 [==============================] - 7s 7ms/step - loss: 9.7177e-04\n",
      "Epoch 16/100\n",
      "1013/1013 [==============================] - 7s 7ms/step - loss: 8.6800e-04\n",
      "Epoch 17/100\n",
      "1013/1013 [==============================] - 8s 8ms/step - loss: 9.6450e-04\n",
      "Epoch 18/100\n",
      "1013/1013 [==============================] - 8s 8ms/step - loss: 9.0559e-04\n",
      "Epoch 19/100\n",
      "1013/1013 [==============================] - 8s 7ms/step - loss: 8.8441e-04\n",
      "Epoch 20/100\n",
      "1013/1013 [==============================] - 7s 7ms/step - loss: 0.0011\n",
      "Epoch 21/100\n",
      "1013/1013 [==============================] - 8s 8ms/step - loss: 0.0011\n",
      "Epoch 22/100\n",
      "1013/1013 [==============================] - 8s 8ms/step - loss: 0.0013\n",
      "Epoch 23/100\n",
      "1013/1013 [==============================] - 8s 7ms/step - loss: 9.0476e-04\n",
      "Epoch 24/100\n",
      "1013/1013 [==============================] - 8s 8ms/step - loss: 8.7673e-04\n",
      "Epoch 25/100\n",
      "1013/1013 [==============================] - 7s 7ms/step - loss: 8.5670e-04\n",
      "Epoch 26/100\n",
      "1013/1013 [==============================] - 8s 8ms/step - loss: 7.9208e-04\n",
      "Epoch 27/100\n",
      "1013/1013 [==============================] - 7s 7ms/step - loss: 7.5331e-04\n",
      "Epoch 28/100\n",
      "1013/1013 [==============================] - 7s 7ms/step - loss: 9.3085e-04\n",
      "Epoch 29/100\n",
      "1013/1013 [==============================] - 7s 7ms/step - loss: 7.9259e-04\n",
      "Epoch 30/100\n",
      "1013/1013 [==============================] - 9s 8ms/step - loss: 9.8138e-04\n",
      "Epoch 31/100\n",
      "1013/1013 [==============================] - 8s 8ms/step - loss: 8.3947e-04\n",
      "Epoch 32/100\n",
      "1013/1013 [==============================] - 8s 8ms/step - loss: 7.4118e-04\n",
      "Epoch 33/100\n",
      "1013/1013 [==============================] - 8s 7ms/step - loss: 7.6676e-04\n",
      "Epoch 34/100\n",
      "1013/1013 [==============================] - 7s 7ms/step - loss: 7.8137e-04\n",
      "Epoch 35/100\n",
      "1013/1013 [==============================] - 8s 8ms/step - loss: 8.6140e-04\n",
      "Epoch 36/100\n",
      "1013/1013 [==============================] - 10s 10ms/step - loss: 7.1446e-04\n",
      "Epoch 37/100\n",
      "1013/1013 [==============================] - 13s 13ms/step - loss: 5.9308e-04\n",
      "Epoch 38/100\n",
      "1013/1013 [==============================] - 14s 14ms/step - loss: 5.7713e-04\n",
      "Epoch 39/100\n",
      "1013/1013 [==============================] - 7s 7ms/step - loss: 6.9560e-04\n",
      "Epoch 40/100\n",
      "1013/1013 [==============================] - 7s 7ms/step - loss: 7.1815e-04\n",
      "Epoch 41/100\n",
      "1013/1013 [==============================] - 7s 7ms/step - loss: 7.2415e-04\n",
      "Epoch 42/100\n",
      "1013/1013 [==============================] - 7s 7ms/step - loss: 6.6569e-04\n",
      "Epoch 43/100\n",
      "1013/1013 [==============================] - 7s 7ms/step - loss: 6.2650e-04\n",
      "Epoch 44/100\n",
      "1013/1013 [==============================] - 7s 7ms/step - loss: 6.8669e-04\n",
      "Epoch 45/100\n",
      "1013/1013 [==============================] - 7s 7ms/step - loss: 7.2317e-04\n",
      "Epoch 46/100\n",
      "1013/1013 [==============================] - 7s 7ms/step - loss: 6.7468e-04\n",
      "Epoch 47/100\n",
      "1013/1013 [==============================] - 8s 8ms/step - loss: 5.7419e-04\n",
      "Epoch 48/100\n",
      "1013/1013 [==============================] - 12s 12ms/step - loss: 5.2833e-04\n",
      "Epoch 49/100\n",
      "1013/1013 [==============================] - 7s 7ms/step - loss: 7.4339e-04\n",
      "Epoch 50/100\n",
      "1013/1013 [==============================] - 7s 7ms/step - loss: 8.5265e-04\n",
      "Epoch 51/100\n",
      "1013/1013 [==============================] - 7s 7ms/step - loss: 6.9481e-04\n",
      "Epoch 52/100\n",
      "1013/1013 [==============================] - 8s 8ms/step - loss: 6.2691e-04\n",
      "Epoch 53/100\n",
      "1013/1013 [==============================] - 8s 8ms/step - loss: 5.7793e-04\n",
      "Epoch 54/100\n",
      "1013/1013 [==============================] - 8s 8ms/step - loss: 6.4381e-04\n",
      "Epoch 55/100\n",
      "1013/1013 [==============================] - 7s 7ms/step - loss: 5.4981e-04\n",
      "Epoch 56/100\n",
      "1013/1013 [==============================] - 8s 7ms/step - loss: 5.4911e-04\n",
      "Epoch 57/100\n",
      "1013/1013 [==============================] - 7s 7ms/step - loss: 5.0838e-04\n",
      "Epoch 58/100\n",
      "1013/1013 [==============================] - 7s 7ms/step - loss: 7.3560e-04\n",
      "Epoch 59/100\n",
      "1013/1013 [==============================] - 8s 7ms/step - loss: 5.2981e-04\n",
      "Epoch 60/100\n",
      "1013/1013 [==============================] - 9s 9ms/step - loss: 5.6324e-04\n",
      "Epoch 61/100\n",
      "1013/1013 [==============================] - 8s 7ms/step - loss: 5.7544e-04\n",
      "Epoch 62/100\n",
      "1013/1013 [==============================] - 10s 10ms/step - loss: 5.5410e-04\n",
      "Epoch 63/100\n",
      "1013/1013 [==============================] - 9s 9ms/step - loss: 4.7969e-04\n",
      "Epoch 64/100\n",
      "1013/1013 [==============================] - 8s 8ms/step - loss: 5.9311e-04\n",
      "Epoch 65/100\n",
      "1013/1013 [==============================] - 8s 8ms/step - loss: 5.1785e-04\n",
      "Epoch 66/100\n",
      "1013/1013 [==============================] - 7s 7ms/step - loss: 5.3417e-04\n",
      "Epoch 67/100\n",
      "1013/1013 [==============================] - 8s 8ms/step - loss: 5.0006e-04\n",
      "Epoch 68/100\n",
      "1013/1013 [==============================] - 8s 7ms/step - loss: 6.1626e-04\n",
      "Epoch 69/100\n",
      "1013/1013 [==============================] - 10s 10ms/step - loss: 4.6345e-04\n",
      "Epoch 70/100\n",
      "1013/1013 [==============================] - 8s 8ms/step - loss: 6.4896e-04\n",
      "Epoch 71/100\n",
      "1013/1013 [==============================] - 8s 8ms/step - loss: 6.7550e-04\n",
      "Epoch 72/100\n",
      "1013/1013 [==============================] - 7s 7ms/step - loss: 5.4023e-04\n",
      "Epoch 73/100\n",
      "1013/1013 [==============================] - 9s 9ms/step - loss: 4.3305e-04\n",
      "Epoch 74/100\n",
      "1013/1013 [==============================] - 8s 8ms/step - loss: 5.2868e-04\n",
      "Epoch 75/100\n",
      "1013/1013 [==============================] - 8s 8ms/step - loss: 4.6698e-04\n",
      "Epoch 76/100\n",
      "1013/1013 [==============================] - 7s 7ms/step - loss: 5.8294e-04\n",
      "Epoch 77/100\n",
      "1013/1013 [==============================] - 7s 7ms/step - loss: 4.8725e-04\n",
      "Epoch 78/100\n",
      "1013/1013 [==============================] - 7s 7ms/step - loss: 5.0202e-04\n",
      "Epoch 79/100\n",
      "1013/1013 [==============================] - 7s 7ms/step - loss: 5.4976e-04\n",
      "Epoch 80/100\n",
      "1013/1013 [==============================] - 7s 7ms/step - loss: 5.3180e-04\n",
      "Epoch 81/100\n",
      "1013/1013 [==============================] - 8s 8ms/step - loss: 5.1899e-04\n",
      "Epoch 82/100\n",
      "1013/1013 [==============================] - 7s 7ms/step - loss: 5.9188e-04\n",
      "Epoch 83/100\n",
      "1013/1013 [==============================] - 7s 7ms/step - loss: 4.1167e-04\n",
      "Epoch 84/100\n",
      "1013/1013 [==============================] - 7s 7ms/step - loss: 4.8824e-04\n",
      "Epoch 85/100\n",
      "1013/1013 [==============================] - 7s 7ms/step - loss: 5.1234e-04\n",
      "Epoch 86/100\n",
      "1013/1013 [==============================] - 7s 7ms/step - loss: 5.0735e-04\n",
      "Epoch 87/100\n",
      "1013/1013 [==============================] - 7s 7ms/step - loss: 4.7860e-04\n",
      "Epoch 88/100\n",
      "1013/1013 [==============================] - 8s 8ms/step - loss: 4.3016e-04\n",
      "Epoch 89/100\n",
      "1013/1013 [==============================] - 8s 8ms/step - loss: 4.7365e-04\n",
      "Epoch 90/100\n",
      "1013/1013 [==============================] - 7s 7ms/step - loss: 4.4303e-04\n",
      "Epoch 91/100\n",
      "1013/1013 [==============================] - 7s 7ms/step - loss: 4.6903e-04\n",
      "Epoch 92/100\n",
      "1013/1013 [==============================] - 8s 8ms/step - loss: 5.0275e-04\n",
      "Epoch 93/100\n"
     ]
    },
    {
     "name": "stdout",
     "output_type": "stream",
     "text": [
      "1013/1013 [==============================] - 7s 7ms/step - loss: 4.6282e-04\n",
      "Epoch 94/100\n",
      "1013/1013 [==============================] - 7s 7ms/step - loss: 4.9346e-04\n",
      "Epoch 95/100\n",
      "1013/1013 [==============================] - 7s 7ms/step - loss: 4.6584e-04\n",
      "Epoch 96/100\n",
      "1013/1013 [==============================] - 7s 7ms/step - loss: 6.2426e-04\n",
      "Epoch 97/100\n",
      "1013/1013 [==============================] - 6s 6ms/step - loss: 4.9116e-04\n",
      "Epoch 98/100\n",
      "1013/1013 [==============================] - 6s 5ms/step - loss: 4.5443e-04\n",
      "Epoch 99/100\n",
      "1013/1013 [==============================] - 6s 6ms/step - loss: 5.9337e-04\n",
      "Epoch 100/100\n",
      "1013/1013 [==============================] - 6s 6ms/step - loss: 5.2553e-04\n"
     ]
    },
    {
     "data": {
      "text/plain": [
       "<keras.callbacks.History at 0x7fec1779cf60>"
      ]
     },
     "execution_count": 104,
     "metadata": {},
     "output_type": "execute_result"
    }
   ],
   "source": [
    "# Fitting the RNN to the Training set\n",
    "regressor.fit(X_train, y_train, epochs = 100, batch_size = 32)"
   ]
  },
  {
   "cell_type": "code",
   "execution_count": 105,
   "metadata": {},
   "outputs": [],
   "source": [
    "# Part 3 - Making the predictions and visualising the results\n",
    "\n",
    "# Getting the real stock price of 2017\n",
    "dataset_test = pd.read_csv('FBOK34.SA_Test.csv')\n",
    "real_stock_price = dataset_test.iloc[:, 1:2].values"
   ]
  },
  {
   "cell_type": "code",
   "execution_count": 106,
   "metadata": {},
   "outputs": [],
   "source": [
    "# Getting the predicted stock price of 2017\n",
    "dataset_total = pd.concat((dataset_train['Open'], dataset_test['Open']), axis = 0)\n",
    "inputs = dataset_total[len(dataset_total) - len(dataset_test) - 60:].values\n",
    "inputs = inputs.reshape(-1,1)\n",
    "inputs = sc.transform(inputs)\n",
    "X_test = []\n",
    "for i in range(60, 135):\n",
    "    X_test.append(inputs[i-60:i, 0])\n",
    "X_test = np.array(X_test)\n",
    "X_test = np.reshape(X_test, (X_test.shape[0], X_test.shape[1], 1))\n",
    "predicted_stock_price = regressor.predict(X_test)\n",
    "predicted_stock_price = sc.inverse_transform(predicted_stock_price)"
   ]
  },
  {
   "cell_type": "code",
   "execution_count": 107,
   "metadata": {},
   "outputs": [
    {
     "data": {
      "image/png": "[encoded data removed]",
      "text/plain": [
       "<Figure size 432x288 with 1 Axes>"
      ]
     },
     "metadata": {
      "needs_background": "light"
     },
     "output_type": "display_data"
    }
   ],
   "source": [
    "# Visualising the results\n",
    "plt.plot(real_stock_price, color = 'red', label = 'Real Facebook Stock Price')\n",
    "plt.plot(predicted_stock_price, color = 'blue', label = 'Predicted Facebook Stock Price')\n",
    "plt.title('Facebook Stock Price Prediction')\n",
    "plt.xlabel('Time')\n",
    "plt.ylabel('Facebook Stock Price')\n",
    "plt.legend()\n",
    "plt.show()"
   ]
  },
  {
   "cell_type": "code",
   "execution_count": null,
   "metadata": {},
   "outputs": [],
   "source": []
  }
 ],
 "metadata": {
  "kernelspec": {
   "display_name": "Python 3",
   "language": "python",
   "name": "python3"
  },
  "language_info": {
   "codemirror_mode": {
    "name": "ipython",
    "version": 3
   },
   "file_extension": ".py",
   "mimetype": "text/x-python",
   "name": "python",
   "nbconvert_exporter": "python",
   "pygments_lexer": "ipython3",
   "version": "3.6.8"
  }
 },
 "nbformat": 4,
 "nbformat_minor": 2
}
