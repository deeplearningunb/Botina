{
 "cells": [
  {
   "cell_type": "code",
   "execution_count": 1,
   "metadata": {},
   "outputs": [],
   "source": [
    "# Recurrent Neural Network\n",
    "\n",
    "\n",
    "\n",
    "# Part 1 - Data Preprocessing\n",
    "\n",
    "# Importing the libraries\n",
    "import numpy as np\n",
    "import matplotlib.pyplot as plt\n",
    "import pandas as pd"
   ]
  },
  {
   "cell_type": "code",
   "execution_count": 2,
   "metadata": {},
   "outputs": [],
   "source": [
    "# Importing the training sets\n",
    "dataset_train = pd.read_csv('FBOK34.SA.csv')\n",
    "training_set = dataset_train.iloc[:, 1:2].values"
   ]
  },
  {
   "cell_type": "code",
   "execution_count": 3,
   "metadata": {},
   "outputs": [],
   "source": [
    "# Feature Scaling\n",
    "from sklearn.preprocessing import MinMaxScaler\n",
    "sc = MinMaxScaler(feature_range = (0, 1))\n",
    "training_set_scaled = sc.fit_transform(training_set)"
   ]
  },
  {
   "cell_type": "code",
   "execution_count": 4,
   "metadata": {},
   "outputs": [],
   "source": [
    "# Creating a data structure with 60 timesteps and 1 output\n",
    "X_train = []\n",
    "y_train = []\n",
    "for i in range(60, 1073):\n",
    "    X_train.append(training_set_scaled[i-60:i, 0])\n",
    "    y_train.append(training_set_scaled[i, 0])\n",
    "X_train, y_train = np.array(X_train), np.array(y_train)"
   ]
  },
  {
   "cell_type": "code",
   "execution_count": 5,
   "metadata": {},
   "outputs": [],
   "source": [
    "# Reshaping\n",
    "X_train = np.reshape(X_train, (X_train.shape[0], X_train.shape[1], 1))"
   ]
  },
  {
   "cell_type": "code",
   "execution_count": 6,
   "metadata": {},
   "outputs": [
    {
     "name": "stderr",
     "output_type": "stream",
     "text": [
      "Using TensorFlow backend.\n"
     ]
    }
   ],
   "source": [
    "# Part 2 - Building the RNN\n",
    "\n",
    "# Importing the Keras libraries and packages\n",
    "from keras.models import Sequential\n",
    "from keras.layers import Dense\n",
    "from keras.layers import GRU\n",
    "from keras.layers import Dropout"
   ]
  },
  {
   "cell_type": "code",
   "execution_count": 7,
   "metadata": {},
   "outputs": [],
   "source": [
    "# Initialising the RNN\n",
    "regressor = Sequential()"
   ]
  },
  {
   "cell_type": "code",
   "execution_count": 8,
   "metadata": {},
   "outputs": [
    {
     "name": "stdout",
     "output_type": "stream",
     "text": [
      "WARNING:tensorflow:From /usr/local/lib/python3.6/dist-packages/tensorflow/python/framework/op_def_library.py:263: colocate_with (from tensorflow.python.framework.ops) is deprecated and will be removed in a future version.\n",
      "Instructions for updating:\n",
      "Colocations handled automatically by placer.\n",
      "WARNING:tensorflow:From /usr/local/lib/python3.6/dist-packages/keras/backend/tensorflow_backend.py:3445: calling dropout (from tensorflow.python.ops.nn_ops) with keep_prob is deprecated and will be removed in a future version.\n",
      "Instructions for updating:\n",
      "Please use `rate` instead of `keep_prob`. Rate should be set to `rate = 1 - keep_prob`.\n"
     ]
    }
   ],
   "source": [
    "# Adding the first LSTM layer and some Dropout regularisation\n",
    "regressor.add(GRU(units = 100, return_sequences = True, input_shape = (X_train.shape[1], 1)))\n",
    "regressor.add(Dropout(0.2))"
   ]
  },
  {
   "cell_type": "code",
   "execution_count": 9,
   "metadata": {},
   "outputs": [],
   "source": [
    "# Adding a second LSTM layer and some Dropout regularisation\n",
    "regressor.add(GRU(units = 100, return_sequences = True))\n",
    "regressor.add(Dropout(0.2))"
   ]
  },
  {
   "cell_type": "code",
   "execution_count": 10,
   "metadata": {},
   "outputs": [],
   "source": [
    "# Adding a third LSTM layer and some Dropout regularisation\n",
    "regressor.add(GRU(units = 100, return_sequences = True))\n",
    "regressor.add(Dropout(0.2))"
   ]
  },
  {
   "cell_type": "code",
   "execution_count": 11,
   "metadata": {},
   "outputs": [],
   "source": [
    "# Adding a fourth LSTM layer and some Dropout regularisation\n",
    "regressor.add(GRU(units = 100))\n",
    "regressor.add(Dropout(0.2))"
   ]
  },
  {
   "cell_type": "code",
   "execution_count": 12,
   "metadata": {},
   "outputs": [],
   "source": [
    "# Adding the output layer\n",
    "regressor.add(Dense(units = 1))"
   ]
  },
  {
   "cell_type": "code",
   "execution_count": 13,
   "metadata": {},
   "outputs": [],
   "source": [
    "# Compiling the RNN\n",
    "regressor.compile(optimizer = 'adam', loss = 'mean_squared_error')"
   ]
  },
  {
   "cell_type": "code",
   "execution_count": 14,
   "metadata": {},
   "outputs": [
    {
     "name": "stdout",
     "output_type": "stream",
     "text": [
      "WARNING:tensorflow:From /usr/local/lib/python3.6/dist-packages/tensorflow/python/ops/math_ops.py:3066: to_int32 (from tensorflow.python.ops.math_ops) is deprecated and will be removed in a future version.\n",
      "Instructions for updating:\n",
      "Use tf.cast instead.\n",
      "Epoch 1/150\n",
      "1013/1013 [==============================] - 10s 10ms/step - loss: 0.0251\n",
      "Epoch 2/150\n",
      "1013/1013 [==============================] - 6s 6ms/step - loss: 0.0029\n",
      "Epoch 3/150\n",
      "1013/1013 [==============================] - 7s 6ms/step - loss: 0.0023\n",
      "Epoch 4/150\n",
      "1013/1013 [==============================] - 6s 6ms/step - loss: 0.0023\n",
      "Epoch 5/150\n",
      "1013/1013 [==============================] - 6s 6ms/step - loss: 0.0022\n",
      "Epoch 6/150\n",
      "1013/1013 [==============================] - 6s 6ms/step - loss: 0.0019\n",
      "Epoch 7/150\n",
      "1013/1013 [==============================] - 6s 6ms/step - loss: 0.0019\n",
      "Epoch 8/150\n",
      "1013/1013 [==============================] - 6s 6ms/step - loss: 0.0016\n",
      "Epoch 9/150\n",
      "1013/1013 [==============================] - 6s 6ms/step - loss: 0.0015\n",
      "Epoch 10/150\n",
      "1013/1013 [==============================] - 6s 6ms/step - loss: 0.0016\n",
      "Epoch 11/150\n",
      "1013/1013 [==============================] - 7s 7ms/step - loss: 0.0015\n",
      "Epoch 12/150\n",
      "1013/1013 [==============================] - 7s 7ms/step - loss: 0.0015\n",
      "Epoch 13/150\n",
      "1013/1013 [==============================] - 6s 6ms/step - loss: 0.0020\n",
      "Epoch 14/150\n",
      "1013/1013 [==============================] - 6s 6ms/step - loss: 0.0013\n",
      "Epoch 15/150\n",
      "1013/1013 [==============================] - 7s 7ms/step - loss: 0.0015\n",
      "Epoch 16/150\n",
      "1013/1013 [==============================] - 7s 6ms/step - loss: 0.0014\n",
      "Epoch 17/150\n",
      "1013/1013 [==============================] - 8s 8ms/step - loss: 0.0014\n",
      "Epoch 18/150\n",
      "1013/1013 [==============================] - 6s 6ms/step - loss: 0.0013\n",
      "Epoch 19/150\n",
      "1013/1013 [==============================] - 7s 6ms/step - loss: 0.0012\n",
      "Epoch 20/150\n",
      "1013/1013 [==============================] - 7s 7ms/step - loss: 0.0014\n",
      "Epoch 21/150\n",
      "1013/1013 [==============================] - 7s 6ms/step - loss: 0.0017\n",
      "Epoch 22/150\n",
      "1013/1013 [==============================] - 6s 6ms/step - loss: 0.0012\n",
      "Epoch 23/150\n",
      "1013/1013 [==============================] - 7s 7ms/step - loss: 0.0011\n",
      "Epoch 24/150\n",
      "1013/1013 [==============================] - 7s 7ms/step - loss: 0.0016\n",
      "Epoch 25/150\n",
      "1013/1013 [==============================] - 7s 7ms/step - loss: 0.0017\n",
      "Epoch 26/150\n",
      "1013/1013 [==============================] - 7s 7ms/step - loss: 0.0015\n",
      "Epoch 27/150\n",
      "1013/1013 [==============================] - 7s 7ms/step - loss: 0.0013\n",
      "Epoch 28/150\n",
      "1013/1013 [==============================] - 8s 8ms/step - loss: 0.0011\n",
      "Epoch 29/150\n",
      "1013/1013 [==============================] - 8s 8ms/step - loss: 0.0012\n",
      "Epoch 30/150\n",
      "1013/1013 [==============================] - 8s 8ms/step - loss: 0.0012\n",
      "Epoch 31/150\n",
      "1013/1013 [==============================] - 8s 7ms/step - loss: 0.0012\n",
      "Epoch 32/150\n",
      "1013/1013 [==============================] - 7s 7ms/step - loss: 0.0011\n",
      "Epoch 33/150\n",
      "1013/1013 [==============================] - 8s 8ms/step - loss: 0.0012\n",
      "Epoch 34/150\n",
      "1013/1013 [==============================] - 7s 7ms/step - loss: 0.0011\n",
      "Epoch 35/150\n",
      "1013/1013 [==============================] - 7s 7ms/step - loss: 0.0011\n",
      "Epoch 36/150\n",
      "1013/1013 [==============================] - 7s 7ms/step - loss: 0.0012\n",
      "Epoch 37/150\n",
      "1013/1013 [==============================] - 7s 7ms/step - loss: 0.0010\n",
      "Epoch 38/150\n",
      "1013/1013 [==============================] - 8s 8ms/step - loss: 0.0012\n",
      "Epoch 39/150\n",
      "1013/1013 [==============================] - 8s 7ms/step - loss: 0.0010\n",
      "Epoch 40/150\n",
      "1013/1013 [==============================] - 8s 8ms/step - loss: 0.0011\n",
      "Epoch 41/150\n",
      "1013/1013 [==============================] - 7s 7ms/step - loss: 0.0010\n",
      "Epoch 42/150\n",
      "1013/1013 [==============================] - 7s 6ms/step - loss: 9.3909e-04\n",
      "Epoch 43/150\n",
      "1013/1013 [==============================] - 7s 7ms/step - loss: 9.2044e-04\n",
      "Epoch 44/150\n",
      "1013/1013 [==============================] - 6s 6ms/step - loss: 9.9453e-04\n",
      "Epoch 45/150\n",
      "1013/1013 [==============================] - 6s 6ms/step - loss: 0.0011\n",
      "Epoch 46/150\n",
      "1013/1013 [==============================] - 6s 6ms/step - loss: 9.6590e-04\n",
      "Epoch 47/150\n",
      "1013/1013 [==============================] - 7s 6ms/step - loss: 9.1439e-04\n",
      "Epoch 48/150\n",
      "1013/1013 [==============================] - 7s 7ms/step - loss: 8.9564e-04\n",
      "Epoch 49/150\n",
      "1013/1013 [==============================] - 7s 7ms/step - loss: 9.3423e-04\n",
      "Epoch 50/150\n",
      "1013/1013 [==============================] - 6s 6ms/step - loss: 9.0975e-04\n",
      "Epoch 51/150\n",
      "1013/1013 [==============================] - 7s 6ms/step - loss: 9.4446e-04\n",
      "Epoch 52/150\n",
      "1013/1013 [==============================] - 6s 6ms/step - loss: 8.8812e-04\n",
      "Epoch 53/150\n",
      "1013/1013 [==============================] - 6s 6ms/step - loss: 8.1285e-04\n",
      "Epoch 54/150\n",
      "1013/1013 [==============================] - 6s 6ms/step - loss: 8.4655e-04\n",
      "Epoch 55/150\n",
      "1013/1013 [==============================] - 6s 6ms/step - loss: 0.0011\n",
      "Epoch 56/150\n",
      "1013/1013 [==============================] - 6s 6ms/step - loss: 8.7975e-04\n",
      "Epoch 57/150\n",
      "1013/1013 [==============================] - 6s 6ms/step - loss: 0.0010\n",
      "Epoch 58/150\n",
      "1013/1013 [==============================] - 6s 6ms/step - loss: 8.6739e-04\n",
      "Epoch 59/150\n",
      "1013/1013 [==============================] - 6s 6ms/step - loss: 8.5647e-04\n",
      "Epoch 60/150\n",
      "1013/1013 [==============================] - 6s 6ms/step - loss: 8.4770e-04\n",
      "Epoch 61/150\n",
      "1013/1013 [==============================] - 6s 6ms/step - loss: 8.3612e-04\n",
      "Epoch 62/150\n",
      "1013/1013 [==============================] - 8s 8ms/step - loss: 9.9177e-04\n",
      "Epoch 63/150\n",
      "1013/1013 [==============================] - 7s 7ms/step - loss: 8.5547e-04\n",
      "Epoch 64/150\n",
      "1013/1013 [==============================] - 7s 7ms/step - loss: 7.5962e-04\n",
      "Epoch 65/150\n",
      "1013/1013 [==============================] - 7s 7ms/step - loss: 9.9331e-04\n",
      "Epoch 66/150\n",
      "1013/1013 [==============================] - 7s 7ms/step - loss: 8.1150e-04\n",
      "Epoch 67/150\n",
      "1013/1013 [==============================] - 6s 6ms/step - loss: 9.0077e-04\n",
      "Epoch 68/150\n",
      "1013/1013 [==============================] - 5s 5ms/step - loss: 0.0010\n",
      "Epoch 69/150\n",
      "1013/1013 [==============================] - 5s 5ms/step - loss: 7.9629e-04\n",
      "Epoch 70/150\n",
      "1013/1013 [==============================] - 5s 5ms/step - loss: 7.9215e-04\n",
      "Epoch 71/150\n",
      "1013/1013 [==============================] - 6s 6ms/step - loss: 7.0979e-04\n",
      "Epoch 72/150\n",
      "1013/1013 [==============================] - 7s 7ms/step - loss: 9.5043e-04\n",
      "Epoch 73/150\n",
      "1013/1013 [==============================] - 7s 7ms/step - loss: 8.6402e-04\n",
      "Epoch 74/150\n",
      "1013/1013 [==============================] - 6s 6ms/step - loss: 7.0609e-04\n",
      "Epoch 75/150\n",
      "1013/1013 [==============================] - 7s 7ms/step - loss: 8.0290e-04\n",
      "Epoch 76/150\n",
      "1013/1013 [==============================] - 8s 8ms/step - loss: 7.2170e-04\n",
      "Epoch 77/150\n",
      "1013/1013 [==============================] - 7s 7ms/step - loss: 7.4773e-04\n",
      "Epoch 78/150\n",
      "1013/1013 [==============================] - 6s 6ms/step - loss: 0.0010\n",
      "Epoch 79/150\n",
      "1013/1013 [==============================] - 7s 7ms/step - loss: 7.3477e-04\n",
      "Epoch 80/150\n",
      "1013/1013 [==============================] - 8s 8ms/step - loss: 6.9413e-04\n",
      "Epoch 81/150\n",
      "1013/1013 [==============================] - 8s 8ms/step - loss: 7.8232e-04\n",
      "Epoch 82/150\n",
      "1013/1013 [==============================] - 7s 7ms/step - loss: 0.0010\n",
      "Epoch 83/150\n",
      "1013/1013 [==============================] - 6s 6ms/step - loss: 8.7184e-04\n",
      "Epoch 84/150\n",
      "1013/1013 [==============================] - 7s 7ms/step - loss: 7.1405e-04\n",
      "Epoch 85/150\n",
      "1013/1013 [==============================] - 7s 7ms/step - loss: 7.1527e-04\n",
      "Epoch 86/150\n",
      "1013/1013 [==============================] - 7s 7ms/step - loss: 7.5329e-04\n",
      "Epoch 87/150\n",
      "1013/1013 [==============================] - 6s 6ms/step - loss: 8.1692e-04\n",
      "Epoch 88/150\n",
      "1013/1013 [==============================] - 6s 6ms/step - loss: 6.7047e-04\n",
      "Epoch 89/150\n",
      "1013/1013 [==============================] - 6s 6ms/step - loss: 9.6094e-04\n",
      "Epoch 90/150\n",
      "1013/1013 [==============================] - 7s 7ms/step - loss: 0.0011\n",
      "Epoch 91/150\n",
      "1013/1013 [==============================] - 6s 6ms/step - loss: 8.1108e-04\n",
      "Epoch 92/150\n"
     ]
    },
    {
     "name": "stdout",
     "output_type": "stream",
     "text": [
      "1013/1013 [==============================] - 6s 6ms/step - loss: 7.1899e-04\n",
      "Epoch 93/150\n",
      "1013/1013 [==============================] - 7s 7ms/step - loss: 7.4856e-04\n",
      "Epoch 94/150\n",
      "1013/1013 [==============================] - 6s 6ms/step - loss: 7.2094e-04\n",
      "Epoch 95/150\n",
      "1013/1013 [==============================] - 6s 6ms/step - loss: 7.4176e-04\n",
      "Epoch 96/150\n",
      "1013/1013 [==============================] - 6s 6ms/step - loss: 5.7266e-04\n",
      "Epoch 97/150\n",
      "1013/1013 [==============================] - 6s 6ms/step - loss: 6.6785e-04\n",
      "Epoch 98/150\n",
      "1013/1013 [==============================] - 5s 5ms/step - loss: 7.1349e-04\n",
      "Epoch 99/150\n",
      "1013/1013 [==============================] - 5s 5ms/step - loss: 7.2406e-04\n",
      "Epoch 100/150\n",
      "1013/1013 [==============================] - 6s 6ms/step - loss: 7.2798e-04\n",
      "Epoch 101/150\n",
      "1013/1013 [==============================] - 6s 6ms/step - loss: 7.4949e-04\n",
      "Epoch 102/150\n",
      "1013/1013 [==============================] - 6s 6ms/step - loss: 6.2643e-04\n",
      "Epoch 103/150\n",
      "1013/1013 [==============================] - 6s 6ms/step - loss: 6.4743e-04\n",
      "Epoch 104/150\n",
      "1013/1013 [==============================] - 6s 6ms/step - loss: 6.0492e-04\n",
      "Epoch 105/150\n",
      "1013/1013 [==============================] - 5s 5ms/step - loss: 7.0271e-04\n",
      "Epoch 106/150\n",
      "1013/1013 [==============================] - 5s 5ms/step - loss: 8.2833e-04\n",
      "Epoch 107/150\n",
      "1013/1013 [==============================] - 5s 5ms/step - loss: 6.4131e-04\n",
      "Epoch 108/150\n",
      "1013/1013 [==============================] - 5s 5ms/step - loss: 6.1935e-04\n",
      "Epoch 109/150\n",
      "1013/1013 [==============================] - 6s 5ms/step - loss: 6.1267e-04\n",
      "Epoch 110/150\n",
      "1013/1013 [==============================] - 7s 6ms/step - loss: 6.3953e-04\n",
      "Epoch 111/150\n",
      "1013/1013 [==============================] - 6s 6ms/step - loss: 6.2890e-04\n",
      "Epoch 112/150\n",
      "1013/1013 [==============================] - 8s 8ms/step - loss: 6.5432e-04\n",
      "Epoch 113/150\n",
      "1013/1013 [==============================] - 7s 7ms/step - loss: 6.7581e-04\n",
      "Epoch 114/150\n",
      "1013/1013 [==============================] - 4s 4ms/step - loss: 6.7155e-04\n",
      "Epoch 115/150\n",
      "1013/1013 [==============================] - 4s 4ms/step - loss: 5.8654e-04\n",
      "Epoch 116/150\n",
      "1013/1013 [==============================] - 4s 4ms/step - loss: 6.1036e-04\n",
      "Epoch 117/150\n",
      "1013/1013 [==============================] - 4s 4ms/step - loss: 6.7583e-04\n",
      "Epoch 118/150\n",
      "1013/1013 [==============================] - 4s 4ms/step - loss: 8.3373e-04\n",
      "Epoch 119/150\n",
      "1013/1013 [==============================] - 4s 4ms/step - loss: 5.5299e-04\n",
      "Epoch 120/150\n",
      "1013/1013 [==============================] - 4s 4ms/step - loss: 5.7538e-04\n",
      "Epoch 121/150\n",
      "1013/1013 [==============================] - 4s 4ms/step - loss: 7.1216e-04\n",
      "Epoch 122/150\n",
      "1013/1013 [==============================] - 4s 4ms/step - loss: 5.5360e-04\n",
      "Epoch 123/150\n",
      "1013/1013 [==============================] - 4s 4ms/step - loss: 6.1873e-04\n",
      "Epoch 124/150\n",
      "1013/1013 [==============================] - 6s 5ms/step - loss: 6.0717e-04\n",
      "Epoch 125/150\n",
      "1013/1013 [==============================] - 5s 5ms/step - loss: 5.8590e-04\n",
      "Epoch 126/150\n",
      "1013/1013 [==============================] - 4s 4ms/step - loss: 5.6854e-04\n",
      "Epoch 127/150\n",
      "1013/1013 [==============================] - 5s 5ms/step - loss: 5.6151e-04\n",
      "Epoch 128/150\n",
      "1013/1013 [==============================] - 6s 6ms/step - loss: 6.8920e-04\n",
      "Epoch 129/150\n",
      "1013/1013 [==============================] - 4s 4ms/step - loss: 5.4491e-04\n",
      "Epoch 130/150\n",
      "1013/1013 [==============================] - 4s 4ms/step - loss: 5.7522e-04\n",
      "Epoch 131/150\n",
      "1013/1013 [==============================] - 5s 5ms/step - loss: 5.4451e-04\n",
      "Epoch 132/150\n",
      "1013/1013 [==============================] - 5s 5ms/step - loss: 6.9185e-04\n",
      "Epoch 133/150\n",
      "1013/1013 [==============================] - 5s 5ms/step - loss: 6.0681e-04\n",
      "Epoch 134/150\n",
      "1013/1013 [==============================] - 4s 4ms/step - loss: 7.8905e-04\n",
      "Epoch 135/150\n",
      "1013/1013 [==============================] - 4s 4ms/step - loss: 6.8467e-04\n",
      "Epoch 136/150\n",
      "1013/1013 [==============================] - 5s 4ms/step - loss: 6.8952e-04\n",
      "Epoch 137/150\n",
      "1013/1013 [==============================] - 5s 5ms/step - loss: 6.2232e-04\n",
      "Epoch 138/150\n",
      "1013/1013 [==============================] - 4s 4ms/step - loss: 6.3078e-04\n",
      "Epoch 139/150\n",
      "1013/1013 [==============================] - 4s 4ms/step - loss: 6.1587e-04\n",
      "Epoch 140/150\n",
      "1013/1013 [==============================] - 4s 4ms/step - loss: 5.9058e-04\n",
      "Epoch 141/150\n",
      "1013/1013 [==============================] - 4s 4ms/step - loss: 7.3605e-04\n",
      "Epoch 142/150\n",
      "1013/1013 [==============================] - 4s 4ms/step - loss: 6.5747e-04\n",
      "Epoch 143/150\n",
      "1013/1013 [==============================] - 4s 4ms/step - loss: 5.6275e-04\n",
      "Epoch 144/150\n",
      "1013/1013 [==============================] - 4s 4ms/step - loss: 6.2611e-04\n",
      "Epoch 145/150\n",
      "1013/1013 [==============================] - 4s 4ms/step - loss: 5.6585e-04\n",
      "Epoch 146/150\n",
      "1013/1013 [==============================] - 4s 4ms/step - loss: 5.9482e-04\n",
      "Epoch 147/150\n",
      "1013/1013 [==============================] - 4s 4ms/step - loss: 4.7992e-04\n",
      "Epoch 148/150\n",
      "1013/1013 [==============================] - 4s 4ms/step - loss: 6.8944e-04\n",
      "Epoch 149/150\n",
      "1013/1013 [==============================] - 4s 4ms/step - loss: 5.3553e-04\n",
      "Epoch 150/150\n",
      "1013/1013 [==============================] - 4s 4ms/step - loss: 5.7440e-04\n"
     ]
    },
    {
     "data": {
      "text/plain": [
       "<keras.callbacks.History at 0x7f3634dc2dd8>"
      ]
     },
     "execution_count": 14,
     "metadata": {},
     "output_type": "execute_result"
    }
   ],
   "source": [
    "# Fitting the RNN to the Training set\n",
    "regressor.fit(X_train, y_train, epochs = 150, batch_size = 32)"
   ]
  },
  {
   "cell_type": "code",
   "execution_count": 15,
   "metadata": {},
   "outputs": [],
   "source": [
    "# Part 3 - Making the predictions and visualising the results\n",
    "\n",
    "# Getting the real stock price of 2017\n",
    "dataset_test = pd.read_csv('FBOK34.SA_Test.csv')\n",
    "real_stock_price = dataset_test.iloc[:, 1:2].values"
   ]
  },
  {
   "cell_type": "code",
   "execution_count": 16,
   "metadata": {},
   "outputs": [],
   "source": [
    "# Getting the predicted stock price of 2017\n",
    "dataset_total = pd.concat((dataset_train['Open'], dataset_test['Open']), axis = 0)\n",
    "inputs = dataset_total[len(dataset_total) - len(dataset_test) - 60:].values\n",
    "inputs = inputs.reshape(-1,1)\n",
    "inputs = sc.transform(inputs)\n",
    "X_test = []\n",
    "for i in range(60, 135):\n",
    "    X_test.append(inputs[i-60:i, 0])\n",
    "X_test = np.array(X_test)\n",
    "X_test = np.reshape(X_test, (X_test.shape[0], X_test.shape[1], 1))\n",
    "predicted_stock_price = regressor.predict(X_test)\n",
    "predicted_stock_price = sc.inverse_transform(predicted_stock_price)"
   ]
  },
  {
   "cell_type": "code",
   "execution_count": 17,
   "metadata": {},
   "outputs": [
    {
     "data": {
      "image/png": "[encoded data removed]",
      "text/plain": [
       "<Figure size 432x288 with 1 Axes>"
      ]
     },
     "metadata": {
      "needs_background": "light"
     },
     "output_type": "display_data"
    }
   ],
   "source": [
    "# Visualising the results\n",
    "plt.plot(real_stock_price, color = 'red', label = 'Real Facebook Stock Price')\n",
    "plt.plot(predicted_stock_price, color = 'blue', label = 'Predicted Facebook Stock Price')\n",
    "plt.title('Facebook Stock Price Prediction')\n",
    "plt.xlabel('Time')\n",
    "plt.ylabel('Facebook Stock Price')\n",
    "plt.legend()\n",
    "plt.show()"
   ]
  },
  {
   "cell_type": "code",
   "execution_count": null,
   "metadata": {},
   "outputs": [],
   "source": []
  }
 ],
 "metadata": {
  "kernelspec": {
   "display_name": "Python 3",
   "language": "python",
   "name": "python3"
  },
  "language_info": {
   "codemirror_mode": {
    "name": "ipython",
    "version": 3
   },
   "file_extension": ".py",
   "mimetype": "text/x-python",
   "name": "python",
   "nbconvert_exporter": "python",
   "pygments_lexer": "ipython3",
   "version": "3.6.8"
  }
 },
 "nbformat": 4,
 "nbformat_minor": 2
}
